{
 "cells": [
  {
   "cell_type": "markdown",
   "metadata": {},
   "source": [
    "# Predicting the crew size from cruise ship attributes\n",
    "\n",
    "A large ship manufacturer would like us to give them accurate estimates of how many crew members a ship will require.\n",
    "\n",
    "Our model must predict how many crew members the ships will need so that this information can be passed on to the customers of these cruise ships, in order to help with the purchase decision making process.\n",
    "\n",
    "We will be creating a regression model that will help predict how many crew members will be needed for future ships."
   ]
  },
  {
   "cell_type": "markdown",
   "metadata": {},
   "source": [
    "### Importing Libraries"
   ]
  },
  {
   "cell_type": "code",
   "execution_count": 1,
   "metadata": {},
   "outputs": [],
   "source": [
    "import os\n",
    "from pyspark.ml import Pipeline\n",
    "from pyspark.sql import SparkSession\n",
    "from pyspark.ml.linalg import Vectors\n",
    "from pyspark.ml.feature import VectorAssembler\n",
    "from pyspark.ml.feature import StringIndexer\n",
    "from pyspark.ml.regression import LinearRegression"
   ]
  },
  {
   "cell_type": "markdown",
   "metadata": {},
   "source": [
    "### Creating the `SparkSession` and importing the dataset"
   ]
  },
  {
   "cell_type": "code",
   "execution_count": 2,
   "metadata": {},
   "outputs": [],
   "source": [
    "spark = SparkSession.builder.appName('ship_crews').getOrCreate()"
   ]
  },
  {
   "cell_type": "code",
   "execution_count": 3,
   "metadata": {},
   "outputs": [],
   "source": [
    "os.chdir('..')"
   ]
  },
  {
   "cell_type": "code",
   "execution_count": 4,
   "metadata": {},
   "outputs": [
    {
     "name": "stdout",
     "output_type": "stream",
     "text": [
      "root\n",
      " |-- Ship_name: string (nullable = true)\n",
      " |-- Cruise_line: string (nullable = true)\n",
      " |-- Age: integer (nullable = true)\n",
      " |-- Tonnage: double (nullable = true)\n",
      " |-- passengers: double (nullable = true)\n",
      " |-- length: double (nullable = true)\n",
      " |-- cabins: double (nullable = true)\n",
      " |-- passenger_density: double (nullable = true)\n",
      " |-- crew: double (nullable = true)\n",
      "\n"
     ]
    }
   ],
   "source": [
    "DATA_FILE = os.getcwd() + '/data/cruise_ship_info.csv'\n",
    "df = spark.read.csv(DATA_FILE, inferSchema=True, header=True)\n",
    "df.printSchema()"
   ]
  },
  {
   "cell_type": "markdown",
   "metadata": {},
   "source": [
    "### EDA and summaries"
   ]
  },
  {
   "cell_type": "code",
   "execution_count": 5,
   "metadata": {},
   "outputs": [
    {
     "name": "stdout",
     "output_type": "stream",
     "text": [
      "Rows -> 158\n"
     ]
    }
   ],
   "source": [
    "print(\"Rows ->\", df.count())"
   ]
  },
  {
   "cell_type": "code",
   "execution_count": 6,
   "metadata": {},
   "outputs": [
    {
     "name": "stdout",
     "output_type": "stream",
     "text": [
      "['Ship_name', 'Cruise_line']\n",
      "['Age', 'Tonnage', 'passengers', 'length', 'cabins', 'passenger_density', 'crew']\n"
     ]
    }
   ],
   "source": [
    "stringCols = [item[0] for item in df.dtypes if item[1].startswith('string')]\n",
    "numCols = [item[0] for item in df.dtypes if item[0] not in stringCols]\n",
    "print(stringCols)\n",
    "print(numCols)"
   ]
  },
  {
   "cell_type": "code",
   "execution_count": 7,
   "metadata": {},
   "outputs": [
    {
     "name": "stdout",
     "output_type": "stream",
     "text": [
      "-RECORD 0-------------------------------\n",
      " summary           | count              \n",
      " Age               | 158                \n",
      " Tonnage           | 158                \n",
      " passengers        | 158                \n",
      " length            | 158                \n",
      " cabins            | 158                \n",
      " passenger_density | 158                \n",
      " crew              | 158                \n",
      "-RECORD 1-------------------------------\n",
      " summary           | mean               \n",
      " Age               | 15.689873417721518 \n",
      " Tonnage           | 71.28467088607599  \n",
      " passengers        | 18.45740506329114  \n",
      " length            | 8.130632911392404  \n",
      " cabins            | 8.830000000000005  \n",
      " passenger_density | 39.90094936708861  \n",
      " crew              | 7.794177215189873  \n",
      "-RECORD 2-------------------------------\n",
      " summary           | stddev             \n",
      " Age               | 7.615691058751413  \n",
      " Tonnage           | 37.229540025907866 \n",
      " passengers        | 9.677094775143416  \n",
      " length            | 1.793473548054825  \n",
      " cabins            | 4.4714172221480615 \n",
      " passenger_density | 8.63921711391542   \n",
      " crew              | 3.503486564627034  \n",
      "-RECORD 3-------------------------------\n",
      " summary           | min                \n",
      " Age               | 4                  \n",
      " Tonnage           | 2.329              \n",
      " passengers        | 0.66               \n",
      " length            | 2.79               \n",
      " cabins            | 0.33               \n",
      " passenger_density | 17.7               \n",
      " crew              | 0.59               \n",
      "-RECORD 4-------------------------------\n",
      " summary           | max                \n",
      " Age               | 48                 \n",
      " Tonnage           | 220.0              \n",
      " passengers        | 54.0               \n",
      " length            | 11.82              \n",
      " cabins            | 27.0               \n",
      " passenger_density | 71.43              \n",
      " crew              | 21.0               \n",
      "\n"
     ]
    }
   ],
   "source": [
    "df.select(numCols).describe().show(truncate=False, vertical=True)"
   ]
  },
  {
   "cell_type": "markdown",
   "metadata": {},
   "source": [
    "We have data for **158 ships**.\n",
    "\n",
    "The **independent variables** are - \n",
    "\n",
    "1. `Ship_name` (**<font color=steelblue>string</font>**) : The name of the ship.\n",
    "2. `Cruise_line`(**<font color=steelblue>string</font>**) : The cruise line that owns that ship (recall that these are ships that have already been sold).\n",
    "3. `Age` (**<font color=darkgreen>numeric</font>**) : The Age of the ship.\n",
    "4. `Tonnage` (**<font color=darkgreen>numeric</font>**) : The weight the ship can carry.\n",
    "5. `passengers` (**<font color=darkgreen>numeric</font>**) : The number of passengers the ship can carry.\n",
    "6. `length` (**<font color=darkgreen>numeric</font>**) : The length of the ship.\n",
    "7. `cabins` (**<font color=darkgreen>numeric</font>**) : The number of cabins on the ship.\n",
    "8. `passenger_density` (**<font color=darkgreen>numeric</font>**) : How many passengers the ship can sustain in a pre-determined area.\n",
    "\n",
    "The **dependent variable**, that we are trying to predict - \n",
    "\n",
    "   -  `crew` (**<font color=darkgreen>numeric</font>**) : The number of crew needed to service the ship."
   ]
  },
  {
   "cell_type": "markdown",
   "metadata": {},
   "source": [
    "### Data Transformations\n",
    "\n",
    "To get the data into `pyspark.ml`, we need to transform it into a `DenseVector` format. To do so we must first encode the string columns to their \"numerical equivalents\". To do so, we use `StringIndexer` in conjunction with PySpark `Pipelines`."
   ]
  },
  {
   "cell_type": "code",
   "execution_count": 8,
   "metadata": {},
   "outputs": [],
   "source": [
    "indexers = [StringIndexer(inputCol=column, outputCol=column+\"_index\").fit(df) for column in stringCols]"
   ]
  },
  {
   "cell_type": "code",
   "execution_count": 9,
   "metadata": {},
   "outputs": [
    {
     "data": {
      "text/plain": [
       "{'Ship_name': 'Journey',\n",
       " 'Cruise_line': 'Azamara',\n",
       " 'Age': 6,\n",
       " 'Tonnage': 30.276999999999997,\n",
       " 'passengers': 6.94,\n",
       " 'length': 5.94,\n",
       " 'cabins': 3.55,\n",
       " 'passenger_density': 42.64,\n",
       " 'crew': 3.55,\n",
       " 'Ship_name_index': 32.0,\n",
       " 'Cruise_line_index': 16.0}"
      ]
     },
     "execution_count": 9,
     "metadata": {},
     "output_type": "execute_result"
    }
   ],
   "source": [
    "pipeline = Pipeline(stages=indexers)\n",
    "new_df = pipeline.fit(df).transform(df)\n",
    "new_df.head(1)[0].asDict()"
   ]
  },
  {
   "cell_type": "markdown",
   "metadata": {},
   "source": [
    "Using `Pipelines` and `StringIndexer` we have encoded the string columns to numeric ones, with the appendix `index` in the column names. We can now use `VectorAssember` to transform the numerical features to a `DenseVector` to build our model."
   ]
  },
  {
   "cell_type": "code",
   "execution_count": 10,
   "metadata": {},
   "outputs": [
    {
     "name": "stdout",
     "output_type": "stream",
     "text": [
      "root\n",
      " |-- Ship_name: string (nullable = true)\n",
      " |-- Cruise_line: string (nullable = true)\n",
      " |-- Age: integer (nullable = true)\n",
      " |-- Tonnage: double (nullable = true)\n",
      " |-- passengers: double (nullable = true)\n",
      " |-- length: double (nullable = true)\n",
      " |-- cabins: double (nullable = true)\n",
      " |-- passenger_density: double (nullable = true)\n",
      " |-- crew: double (nullable = true)\n",
      " |-- Ship_name_index: double (nullable = false)\n",
      " |-- Cruise_line_index: double (nullable = false)\n",
      "\n"
     ]
    }
   ],
   "source": [
    "new_df.printSchema()"
   ]
  },
  {
   "cell_type": "code",
   "execution_count": 11,
   "metadata": {},
   "outputs": [
    {
     "name": "stdout",
     "output_type": "stream",
     "text": [
      "root\n",
      " |-- Age: integer (nullable = true)\n",
      " |-- Tonnage: double (nullable = true)\n",
      " |-- passengers: double (nullable = true)\n",
      " |-- length: double (nullable = true)\n",
      " |-- cabins: double (nullable = true)\n",
      " |-- passenger_density: double (nullable = true)\n",
      " |-- crew: double (nullable = true)\n",
      " |-- Ship_name_index: double (nullable = false)\n",
      " |-- Cruise_line_index: double (nullable = false)\n",
      "\n"
     ]
    }
   ],
   "source": [
    "stringCols = [item[0] for item in new_df.dtypes if item[1].startswith('string')]\n",
    "numCols = [item[0] for item in new_df.dtypes if item[0] not in stringCols]\n",
    "new_df = new_df.select(numCols)\n",
    "new_df.printSchema()"
   ]
  },
  {
   "cell_type": "markdown",
   "metadata": {},
   "source": [
    "`VectorAssember` requires as input our **independent variables**, i.e **features**."
   ]
  },
  {
   "cell_type": "code",
   "execution_count": 12,
   "metadata": {},
   "outputs": [
    {
     "data": {
      "text/plain": [
       "['length',\n",
       " 'Ship_name_index',\n",
       " 'Age',\n",
       " 'cabins',\n",
       " 'Tonnage',\n",
       " 'passenger_density',\n",
       " 'passengers',\n",
       " 'Cruise_line_index']"
      ]
     },
     "execution_count": 12,
     "metadata": {},
     "output_type": "execute_result"
    }
   ],
   "source": [
    "indep = list(set(numCols) - set(['crew']))\n",
    "indep"
   ]
  },
  {
   "cell_type": "code",
   "execution_count": 13,
   "metadata": {},
   "outputs": [
    {
     "name": "stdout",
     "output_type": "stream",
     "text": [
      "root\n",
      " |-- Age: integer (nullable = true)\n",
      " |-- Tonnage: double (nullable = true)\n",
      " |-- passengers: double (nullable = true)\n",
      " |-- length: double (nullable = true)\n",
      " |-- cabins: double (nullable = true)\n",
      " |-- passenger_density: double (nullable = true)\n",
      " |-- crew: double (nullable = true)\n",
      " |-- Ship_name_index: double (nullable = false)\n",
      " |-- Cruise_line_index: double (nullable = false)\n",
      " |-- features: vector (nullable = true)\n",
      "\n"
     ]
    }
   ],
   "source": [
    "assembler = VectorAssembler(inputCols = indep, outputCol = 'features')\n",
    "output = assembler.transform(new_df)\n",
    "output.printSchema()"
   ]
  },
  {
   "cell_type": "code",
   "execution_count": 14,
   "metadata": {},
   "outputs": [
    {
     "data": {
      "text/plain": [
       "{'Age': 6,\n",
       " 'Tonnage': 30.276999999999997,\n",
       " 'passengers': 6.94,\n",
       " 'length': 5.94,\n",
       " 'cabins': 3.55,\n",
       " 'passenger_density': 42.64,\n",
       " 'crew': 3.55,\n",
       " 'Ship_name_index': 32.0,\n",
       " 'Cruise_line_index': 16.0,\n",
       " 'features': DenseVector([5.94, 32.0, 6.0, 3.55, 30.277, 42.64, 6.94, 16.0])}"
      ]
     },
     "execution_count": 14,
     "metadata": {},
     "output_type": "execute_result"
    }
   ],
   "source": [
    "output.head(1)[0].asDict()"
   ]
  },
  {
   "cell_type": "markdown",
   "metadata": {},
   "source": [
    "The `features` column contains all the numeric **independent variables** in `DenseVector` representation. The next step is to build our final dataset containing only `features` and **dependent variable**."
   ]
  },
  {
   "cell_type": "code",
   "execution_count": 15,
   "metadata": {},
   "outputs": [
    {
     "name": "stdout",
     "output_type": "stream",
     "text": [
      "-RECORD 0-----------------------------------------------------------\n",
      " features | [5.94,32.0,6.0,3.55,30.276999999999997,42.64,6.94,16.0] \n",
      " crew     | 3.55                                                    \n",
      "-RECORD 1-----------------------------------------------------------\n",
      " features | [5.94,46.0,6.0,3.55,30.276999999999997,42.64,6.94,16.0] \n",
      " crew     | 3.55                                                    \n",
      "-RECORD 2-----------------------------------------------------------\n",
      " features | [7.22,134.0,26.0,7.43,47.262,31.8,14.86,1.0]            \n",
      " crew     | 6.7                                                     \n",
      "-RECORD 3-----------------------------------------------------------\n",
      " features | [9.53,78.0,11.0,14.88,110.0,36.99,29.74,1.0]            \n",
      " crew     | 19.1                                                    \n",
      "-RECORD 4-----------------------------------------------------------\n",
      " features | [8.92,36.0,17.0,13.21,101.353,38.36,26.42,1.0]          \n",
      " crew     | 10.0                                                    \n",
      "only showing top 5 rows\n",
      "\n"
     ]
    }
   ],
   "source": [
    "final_df = output.select(['features', 'crew'])\n",
    "final_df.show(n = 5, truncate=False, vertical=True)"
   ]
  },
  {
   "cell_type": "markdown",
   "metadata": {},
   "source": [
    "### Train-Test Split"
   ]
  },
  {
   "cell_type": "code",
   "execution_count": 16,
   "metadata": {},
   "outputs": [
    {
     "name": "stdout",
     "output_type": "stream",
     "text": [
      "+-------+------------------+\n",
      "|summary|              crew|\n",
      "+-------+------------------+\n",
      "|  count|               117|\n",
      "|   mean| 7.718632478632479|\n",
      "| stddev|3.3463940721584815|\n",
      "|    min|              0.59|\n",
      "|    max|              13.6|\n",
      "+-------+------------------+\n",
      "\n",
      "+-------+------------------+\n",
      "|summary|              crew|\n",
      "+-------+------------------+\n",
      "|  count|                41|\n",
      "|   mean| 8.009756097560976|\n",
      "| stddev|3.9544326317468586|\n",
      "|    min|              0.59|\n",
      "|    max|              21.0|\n",
      "+-------+------------------+\n",
      "\n"
     ]
    }
   ],
   "source": [
    "train, test = final_df.randomSplit([0.75, 0.25])\n",
    "train.describe().show()\n",
    "test.describe().show()"
   ]
  },
  {
   "cell_type": "markdown",
   "metadata": {},
   "source": [
    "### Fit the model on the training data"
   ]
  },
  {
   "cell_type": "code",
   "execution_count": 17,
   "metadata": {},
   "outputs": [],
   "source": [
    "lr = LinearRegression(labelCol='crew')\n",
    "lr_model = lr.fit(train)"
   ]
  },
  {
   "cell_type": "markdown",
   "metadata": {},
   "source": [
    "### Evaluate the model on the testing data"
   ]
  },
  {
   "cell_type": "code",
   "execution_count": 18,
   "metadata": {},
   "outputs": [
    {
     "name": "stdout",
     "output_type": "stream",
     "text": [
      "+--------------------+\n",
      "|           residuals|\n",
      "+--------------------+\n",
      "| 0.40799862966573974|\n",
      "|-0.01683710237391...|\n",
      "|-0.28242513892663323|\n",
      "| 0.17819088776259528|\n",
      "| -1.1231155209062678|\n",
      "| -0.2626515886317424|\n",
      "|  0.5056704680439683|\n",
      "| 0.20295223393832895|\n",
      "|-0.20932167757645193|\n",
      "| -0.1960801408600501|\n",
      "| -0.2529811089349874|\n",
      "| -1.1741491571023408|\n",
      "| -0.4924854858555996|\n",
      "| -0.8287568100385494|\n",
      "|-0.48053199193710494|\n",
      "|  0.6565729701602869|\n",
      "|-0.49101431798548134|\n",
      "| -0.6319717525705517|\n",
      "|  0.6800326949235149|\n",
      "|  0.7063075106945469|\n",
      "+--------------------+\n",
      "only showing top 20 rows\n",
      "\n"
     ]
    }
   ],
   "source": [
    "eval_results = lr_model.evaluate(test)\n",
    "eval_results.residuals.show()"
   ]
  },
  {
   "cell_type": "markdown",
   "metadata": {},
   "source": [
    "### Evaluation Metrics"
   ]
  },
  {
   "cell_type": "code",
   "execution_count": 19,
   "metadata": {},
   "outputs": [
    {
     "name": "stdout",
     "output_type": "stream",
     "text": [
      "RMSE :: 1.2873\n",
      "R2 :: 0.8914\n"
     ]
    }
   ],
   "source": [
    "print(\"RMSE ::\", round(eval_results.rootMeanSquaredError, 4))\n",
    "print(\"R2 ::\", round(eval_results.r2, 4))"
   ]
  },
  {
   "cell_type": "code",
   "execution_count": 20,
   "metadata": {},
   "outputs": [
    {
     "name": "stdout",
     "output_type": "stream",
     "text": [
      "+-------+-----------------+\n",
      "|summary|             crew|\n",
      "+-------+-----------------+\n",
      "|  count|              158|\n",
      "|   mean|7.794177215189873|\n",
      "| stddev|3.503486564627034|\n",
      "|    min|             0.59|\n",
      "|    max|             21.0|\n",
      "+-------+-----------------+\n",
      "\n"
     ]
    }
   ],
   "source": [
    "final_df.describe().show()"
   ]
  },
  {
   "cell_type": "markdown",
   "metadata": {},
   "source": [
    "We have fit a linear regression model to our training data and upon testing have seen an `r-squared` of $0.8914$ and a `RMSE` of $1.2873$, considering that the `mean(crew)` is $7.8$ our RMSE, indicates that the model is fairly accurate."
   ]
  }
 ],
 "metadata": {
  "kernelspec": {
   "display_name": "Python 3",
   "language": "python",
   "name": "python3"
  },
  "language_info": {
   "codemirror_mode": {
    "name": "ipython",
    "version": 3
   },
   "file_extension": ".py",
   "mimetype": "text/x-python",
   "name": "python",
   "nbconvert_exporter": "python",
   "pygments_lexer": "ipython3",
   "version": "3.7.3"
  }
 },
 "nbformat": 4,
 "nbformat_minor": 2
}
