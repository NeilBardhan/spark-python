{
 "cells": [
  {
   "cell_type": "markdown",
   "metadata": {},
   "source": [
    "# Predicting Customer Churn\n",
    "\n",
    "A marketing agency has many customers that use their service to produce ads for the client/customer websites. They've noticed that they have quite a bit of churn in clients. They currently randomly assign account managers, but want to create a machine learning model that will help predict which customers will churn (stop buying their service) so that they can correctly assign the customers most at risk to churn an account manager."
   ]
  },
  {
   "cell_type": "markdown",
   "metadata": {},
   "source": [
    "Given historical data, we can use a logistic regression based classification algorithm that will help classify whether a new customer is churned or not. The company can then test this against incoming data for future customers to predict which customers will churn and assign them an account manager."
   ]
  },
  {
   "cell_type": "markdown",
   "metadata": {},
   "source": [
    "### Importing Libraries"
   ]
  },
  {
   "cell_type": "code",
   "execution_count": 1,
   "metadata": {},
   "outputs": [],
   "source": [
    "import os\n",
    "from pyspark.ml import Pipeline\n",
    "from pyspark.sql import SparkSession\n",
    "from pyspark.ml.classification import LogisticRegression\n",
    "from pyspark.ml.evaluation import BinaryClassificationEvaluator\n",
    "from pyspark.ml.feature import VectorAssembler, OneHotEncoder, StringIndexer, VectorIndexer\n",
    "from pyspark.sql.functions import month, dayofyear, year"
   ]
  },
  {
   "cell_type": "code",
   "execution_count": 2,
   "metadata": {},
   "outputs": [],
   "source": [
    "os.chdir('..')"
   ]
  },
  {
   "cell_type": "markdown",
   "metadata": {},
   "source": [
    "### Creating SparkSession and importing data"
   ]
  },
  {
   "cell_type": "code",
   "execution_count": 3,
   "metadata": {},
   "outputs": [],
   "source": [
    "spark = SparkSession.builder.appName('customerChurn').getOrCreate()"
   ]
  },
  {
   "cell_type": "code",
   "execution_count": 4,
   "metadata": {},
   "outputs": [
    {
     "name": "stdout",
     "output_type": "stream",
     "text": [
      "-RECORD 0-------------------------------------------------------------\n",
      " Names           | Cameron Williams                                   \n",
      " Age             | 42.0                                               \n",
      " Total_Purchase  | 11066.8                                            \n",
      " Account_Manager | 0                                                  \n",
      " Years           | 7.22                                               \n",
      " Num_Sites       | 8.0                                                \n",
      " Onboard_date    | 2013-08-30 07:00:40                                \n",
      " Location        | 10265 Elizabeth Mission Barkerburgh, AK 89518      \n",
      " Company         | Harvey LLC                                         \n",
      " Churn           | 1                                                  \n",
      "-RECORD 1-------------------------------------------------------------\n",
      " Names           | Kevin Mueller                                      \n",
      " Age             | 41.0                                               \n",
      " Total_Purchase  | 11916.22                                           \n",
      " Account_Manager | 0                                                  \n",
      " Years           | 6.5                                                \n",
      " Num_Sites       | 11.0                                               \n",
      " Onboard_date    | 2013-08-13 00:38:46                                \n",
      " Location        | 6157 Frank Gardens Suite 019 Carloshaven, RI 17756 \n",
      " Company         | Wilson PLC                                         \n",
      " Churn           | 1                                                  \n",
      "-RECORD 2-------------------------------------------------------------\n",
      " Names           | Eric Lozano                                        \n",
      " Age             | 38.0                                               \n",
      " Total_Purchase  | 12884.75                                           \n",
      " Account_Manager | 0                                                  \n",
      " Years           | 6.67                                               \n",
      " Num_Sites       | 12.0                                               \n",
      " Onboard_date    | 2016-06-29 06:20:07                                \n",
      " Location        | 1331 Keith Court Alyssahaven, DE 90114             \n",
      " Company         | Miller, Johnson and Wallace                        \n",
      " Churn           | 1                                                  \n",
      "-RECORD 3-------------------------------------------------------------\n",
      " Names           | Phillip White                                      \n",
      " Age             | 42.0                                               \n",
      " Total_Purchase  | 8010.76                                            \n",
      " Account_Manager | 0                                                  \n",
      " Years           | 6.71                                               \n",
      " Num_Sites       | 10.0                                               \n",
      " Onboard_date    | 2014-04-22 12:43:12                                \n",
      " Location        | 13120 Daniel Mount Angelabury, WY 30645-4695       \n",
      " Company         | Smith Inc                                          \n",
      " Churn           | 1                                                  \n",
      "-RECORD 4-------------------------------------------------------------\n",
      " Names           | Cynthia Norton                                     \n",
      " Age             | 37.0                                               \n",
      " Total_Purchase  | 9191.58                                            \n",
      " Account_Manager | 0                                                  \n",
      " Years           | 5.56                                               \n",
      " Num_Sites       | 9.0                                                \n",
      " Onboard_date    | 2016-01-19 15:31:15                                \n",
      " Location        | 765 Tricia Row Karenshire, MH 71730                \n",
      " Company         | Love-Jones                                         \n",
      " Churn           | 1                                                  \n",
      "only showing top 5 rows\n",
      "\n"
     ]
    }
   ],
   "source": [
    "DATA_FILE = os.getcwd() + '/data/customer_churn.csv'\n",
    "df = spark.read.csv(DATA_FILE, header=True, inferSchema=True)\n",
    "df.show(n = 5, truncate=False, vertical=True)"
   ]
  },
  {
   "cell_type": "markdown",
   "metadata": {},
   "source": [
    "### EDA and summaries"
   ]
  },
  {
   "cell_type": "code",
   "execution_count": 5,
   "metadata": {},
   "outputs": [
    {
     "data": {
      "text/plain": [
       "['Age', 'Years', 'Company', 'Total_Purchase', 'Churn', 'Num_Sites']"
      ]
     },
     "execution_count": 5,
     "metadata": {},
     "output_type": "execute_result"
    }
   ],
   "source": [
    "## We don't need 'Account_Manager', 'Names', 'Location' and 'Onboard_date'\n",
    "df = df.select(list(set(df.columns) - set(['Names', 'Account_Manager', 'Location', 'Onboard_date'])))\n",
    "df.columns"
   ]
  },
  {
   "cell_type": "code",
   "execution_count": 6,
   "metadata": {},
   "outputs": [
    {
     "name": "stdout",
     "output_type": "stream",
     "text": [
      "root\n",
      " |-- Age: double (nullable = true)\n",
      " |-- Years: double (nullable = true)\n",
      " |-- Company: string (nullable = true)\n",
      " |-- Total_Purchase: double (nullable = true)\n",
      " |-- Churn: integer (nullable = true)\n",
      " |-- Num_Sites: double (nullable = true)\n",
      "\n"
     ]
    }
   ],
   "source": [
    "df.printSchema()"
   ]
  },
  {
   "cell_type": "code",
   "execution_count": 7,
   "metadata": {},
   "outputs": [
    {
     "name": "stdout",
     "output_type": "stream",
     "text": [
      "-RECORD 0-----------------------------------\n",
      " summary        | count                     \n",
      " Age            | 900                       \n",
      " Years          | 900                       \n",
      " Company        | 900                       \n",
      " Total_Purchase | 900                       \n",
      " Churn          | 900                       \n",
      " Num_Sites      | 900                       \n",
      "-RECORD 1-----------------------------------\n",
      " summary        | mean                      \n",
      " Age            | 41.81666666666667         \n",
      " Years          | 5.27315555555555          \n",
      " Company        | null                      \n",
      " Total_Purchase | 10062.82403333334         \n",
      " Churn          | 0.16666666666666666       \n",
      " Num_Sites      | 8.587777777777777         \n",
      "-RECORD 2-----------------------------------\n",
      " summary        | stddev                    \n",
      " Age            | 6.127560416916251         \n",
      " Years          | 1.274449013194616         \n",
      " Company        | null                      \n",
      " Total_Purchase | 2408.644531858096         \n",
      " Churn          | 0.3728852122772358        \n",
      " Num_Sites      | 1.7648355920350969        \n",
      "-RECORD 3-----------------------------------\n",
      " summary        | min                       \n",
      " Age            | 22.0                      \n",
      " Years          | 1.0                       \n",
      " Company        | Abbott-Thompson           \n",
      " Total_Purchase | 100.0                     \n",
      " Churn          | 0                         \n",
      " Num_Sites      | 3.0                       \n",
      "-RECORD 4-----------------------------------\n",
      " summary        | 25%                       \n",
      " Age            | 38.0                      \n",
      " Years          | 4.45                      \n",
      " Company        | null                      \n",
      " Total_Purchase | 8480.93                   \n",
      " Churn          | 0                         \n",
      " Num_Sites      | 7.0                       \n",
      "-RECORD 5-----------------------------------\n",
      " summary        | 50%                       \n",
      " Age            | 42.0                      \n",
      " Years          | 5.21                      \n",
      " Company        | null                      \n",
      " Total_Purchase | 10041.13                  \n",
      " Churn          | 0                         \n",
      " Num_Sites      | 8.0                       \n",
      "-RECORD 6-----------------------------------\n",
      " summary        | 75%                       \n",
      " Age            | 46.0                      \n",
      " Years          | 6.11                      \n",
      " Company        | null                      \n",
      " Total_Purchase | 11758.69                  \n",
      " Churn          | 0                         \n",
      " Num_Sites      | 10.0                      \n",
      "-RECORD 7-----------------------------------\n",
      " summary        | max                       \n",
      " Age            | 65.0                      \n",
      " Years          | 9.15                      \n",
      " Company        | Zuniga, Clark and Shaffer \n",
      " Total_Purchase | 18026.01                  \n",
      " Churn          | 1                         \n",
      " Num_Sites      | 14.0                      \n",
      "\n"
     ]
    }
   ],
   "source": [
    "df.summary().show(vertical=True, truncate=False)"
   ]
  },
  {
   "cell_type": "markdown",
   "metadata": {},
   "source": [
    "### Encoding variables"
   ]
  },
  {
   "cell_type": "code",
   "execution_count": 8,
   "metadata": {},
   "outputs": [
    {
     "name": "stdout",
     "output_type": "stream",
     "text": [
      "['Company']\n",
      "['Age', 'Years', 'Total_Purchase', 'Churn', 'Num_Sites']\n",
      "['Total_Purchase', 'Age', 'Num_Sites', 'Years']\n"
     ]
    }
   ],
   "source": [
    "stringCols = [item[0] for item in df.dtypes if 'string' in item[1]]\n",
    "numCols = [item[0] for item in df.dtypes if item[0] not in stringCols]\n",
    "indep = list(set(numCols) - set(['Churn']))\n",
    "print(stringCols)\n",
    "print(numCols)\n",
    "print(indep)"
   ]
  },
  {
   "cell_type": "code",
   "execution_count": 9,
   "metadata": {},
   "outputs": [],
   "source": [
    "indexers = [StringIndexer(inputCol = col, outputCol = \"{0}_indexed\".format(col)) for col in stringCols]\n",
    "\n",
    "encoders = [OneHotEncoder(inputCol = indexer.getOutputCol(),\n",
    "            outputCol = \"{0}_encoded\".format(indexer.getOutputCol())) for indexer in indexers]\n",
    "\n",
    "assembler = VectorAssembler(inputCols = [encoder.getOutputCol() for encoder in encoders] + indep, outputCol = \"features\")\n",
    "# print(indexers)\n",
    "# print(encoders)\n",
    "# print(assembler)\n",
    "# indexers + encoders + [assembler]"
   ]
  },
  {
   "cell_type": "code",
   "execution_count": 10,
   "metadata": {},
   "outputs": [
    {
     "data": {
      "text/plain": [
       "['Age',\n",
       " 'Years',\n",
       " 'Company',\n",
       " 'Total_Purchase',\n",
       " 'Churn',\n",
       " 'Num_Sites',\n",
       " 'Company_indexed',\n",
       " 'Company_indexed_encoded',\n",
       " 'features']"
      ]
     },
     "execution_count": 10,
     "metadata": {},
     "output_type": "execute_result"
    }
   ],
   "source": [
    "pipeline = Pipeline(stages = indexers + encoders + [assembler])\n",
    "model = pipeline.fit(df)\n",
    "transformed = model.transform(df)\n",
    "transformed.columns"
   ]
  },
  {
   "cell_type": "code",
   "execution_count": 11,
   "metadata": {},
   "outputs": [
    {
     "name": "stdout",
     "output_type": "stream",
     "text": [
      "-RECORD 0----------------------------------------------------------------------------\n",
      " Age                     | 42.0                                                      \n",
      " Years                   | 7.22                                                      \n",
      " Company                 | Harvey LLC                                                \n",
      " Total_Purchase          | 11066.8                                                   \n",
      " Churn                   | 1                                                         \n",
      " Num_Sites               | 8.0                                                       \n",
      " Company_indexed         | 824.0                                                     \n",
      " Company_indexed_encoded | (872,[824],[1.0])                                         \n",
      " features                | (876,[824,872,873,874,875],[1.0,11066.8,42.0,8.0,7.22])   \n",
      "-RECORD 1----------------------------------------------------------------------------\n",
      " Age                     | 41.0                                                      \n",
      " Years                   | 6.5                                                       \n",
      " Company                 | Wilson PLC                                                \n",
      " Total_Purchase          | 11916.22                                                  \n",
      " Churn                   | 1                                                         \n",
      " Num_Sites               | 11.0                                                      \n",
      " Company_indexed         | 1.0                                                       \n",
      " Company_indexed_encoded | (872,[1],[1.0])                                           \n",
      " features                | (876,[1,872,873,874,875],[1.0,11916.22,41.0,11.0,6.5])    \n",
      "-RECORD 2----------------------------------------------------------------------------\n",
      " Age                     | 38.0                                                      \n",
      " Years                   | 6.67                                                      \n",
      " Company                 | Miller, Johnson and Wallace                               \n",
      " Total_Purchase          | 12884.75                                                  \n",
      " Churn                   | 1                                                         \n",
      " Num_Sites               | 12.0                                                      \n",
      " Company_indexed         | 272.0                                                     \n",
      " Company_indexed_encoded | (872,[272],[1.0])                                         \n",
      " features                | (876,[272,872,873,874,875],[1.0,12884.75,38.0,12.0,6.67]) \n",
      "-RECORD 3----------------------------------------------------------------------------\n",
      " Age                     | 42.0                                                      \n",
      " Years                   | 6.71                                                      \n",
      " Company                 | Smith Inc                                                 \n",
      " Total_Purchase          | 8010.76                                                   \n",
      " Churn                   | 1                                                         \n",
      " Num_Sites               | 10.0                                                      \n",
      " Company_indexed         | 21.0                                                      \n",
      " Company_indexed_encoded | (872,[21],[1.0])                                          \n",
      " features                | (876,[21,872,873,874,875],[1.0,8010.76,42.0,10.0,6.71])   \n",
      "-RECORD 4----------------------------------------------------------------------------\n",
      " Age                     | 37.0                                                      \n",
      " Years                   | 5.56                                                      \n",
      " Company                 | Love-Jones                                                \n",
      " Total_Purchase          | 9191.58                                                   \n",
      " Churn                   | 1                                                         \n",
      " Num_Sites               | 9.0                                                       \n",
      " Company_indexed         | 524.0                                                     \n",
      " Company_indexed_encoded | (872,[524],[1.0])                                         \n",
      " features                | (876,[524,872,873,874,875],[1.0,9191.58,37.0,9.0,5.56])   \n",
      "only showing top 5 rows\n",
      "\n"
     ]
    }
   ],
   "source": [
    "transformed.show(n=5, vertical = True, truncate=False)"
   ]
  },
  {
   "cell_type": "code",
   "execution_count": 12,
   "metadata": {},
   "outputs": [
    {
     "name": "stdout",
     "output_type": "stream",
     "text": [
      "-RECORD 0-------------------------------------------------------------\n",
      " features | (876,[824,872,873,874,875],[1.0,11066.8,42.0,8.0,7.22])   \n",
      " Churn    | 1                                                         \n",
      "-RECORD 1-------------------------------------------------------------\n",
      " features | (876,[1,872,873,874,875],[1.0,11916.22,41.0,11.0,6.5])    \n",
      " Churn    | 1                                                         \n",
      "-RECORD 2-------------------------------------------------------------\n",
      " features | (876,[272,872,873,874,875],[1.0,12884.75,38.0,12.0,6.67]) \n",
      " Churn    | 1                                                         \n",
      "-RECORD 3-------------------------------------------------------------\n",
      " features | (876,[21,872,873,874,875],[1.0,8010.76,42.0,10.0,6.71])   \n",
      " Churn    | 1                                                         \n",
      "-RECORD 4-------------------------------------------------------------\n",
      " features | (876,[524,872,873,874,875],[1.0,9191.58,37.0,9.0,5.56])   \n",
      " Churn    | 1                                                         \n",
      "only showing top 5 rows\n",
      "\n"
     ]
    }
   ],
   "source": [
    "final_df = transformed.select(['features', 'Churn'])\n",
    "final_df.show(n = 5, truncate=False, vertical=True)"
   ]
  },
  {
   "cell_type": "markdown",
   "metadata": {},
   "source": [
    "### Train-Test split"
   ]
  },
  {
   "cell_type": "code",
   "execution_count": 13,
   "metadata": {},
   "outputs": [],
   "source": [
    "train, test = final_df.randomSplit([0.7, 0.3])"
   ]
  },
  {
   "cell_type": "markdown",
   "metadata": {},
   "source": [
    "### Building the LogisticRegression model"
   ]
  },
  {
   "cell_type": "code",
   "execution_count": 14,
   "metadata": {},
   "outputs": [],
   "source": [
    "churn_model = LogisticRegression(labelCol='Churn')\n",
    "churn_model_fit = churn_model.fit(train)"
   ]
  },
  {
   "cell_type": "code",
   "execution_count": 15,
   "metadata": {},
   "outputs": [
    {
     "name": "stdout",
     "output_type": "stream",
     "text": [
      "+-------+-------------------+-------------------+\n",
      "|summary|              Churn|         prediction|\n",
      "+-------+-------------------+-------------------+\n",
      "|  count|                623|                623|\n",
      "|   mean|0.15248796147672553|0.15248796147672553|\n",
      "| stddev|0.35978209656566007|0.35978209656566007|\n",
      "|    min|                0.0|                0.0|\n",
      "|    max|                1.0|                1.0|\n",
      "+-------+-------------------+-------------------+\n",
      "\n"
     ]
    }
   ],
   "source": [
    "training_summary = churn_model_fit.summary\n",
    "training_summary.predictions.describe().show()"
   ]
  },
  {
   "cell_type": "markdown",
   "metadata": {},
   "source": [
    "### Model Evaluation on Test data"
   ]
  },
  {
   "cell_type": "code",
   "execution_count": 16,
   "metadata": {},
   "outputs": [
    {
     "name": "stdout",
     "output_type": "stream",
     "text": [
      "root\n",
      " |-- features: vector (nullable = true)\n",
      " |-- Churn: integer (nullable = true)\n",
      " |-- rawPrediction: vector (nullable = true)\n",
      " |-- probability: vector (nullable = true)\n",
      " |-- prediction: double (nullable = false)\n",
      "\n",
      "+-----+----------+\n",
      "|Churn|prediction|\n",
      "+-----+----------+\n",
      "|    0|       0.0|\n",
      "|    0|       0.0|\n",
      "|    1|       1.0|\n",
      "|    0|       1.0|\n",
      "|    0|       0.0|\n",
      "|    1|       1.0|\n",
      "|    0|       0.0|\n",
      "|    0|       1.0|\n",
      "|    0|       1.0|\n",
      "|    0|       0.0|\n",
      "|    0|       0.0|\n",
      "|    1|       0.0|\n",
      "|    1|       1.0|\n",
      "|    0|       0.0|\n",
      "|    0|       0.0|\n",
      "|    1|       1.0|\n",
      "|    0|       0.0|\n",
      "|    0|       0.0|\n",
      "|    0|       0.0|\n",
      "|    0|       1.0|\n",
      "+-----+----------+\n",
      "only showing top 20 rows\n",
      "\n"
     ]
    }
   ],
   "source": [
    "results = churn_model_fit.transform(test)\n",
    "results.printSchema()\n",
    "results.select(['Churn', 'prediction']).show()"
   ]
  },
  {
   "cell_type": "code",
   "execution_count": 17,
   "metadata": {},
   "outputs": [
    {
     "data": {
      "text/plain": [
       "0.6214987714987715"
      ]
     },
     "execution_count": 17,
     "metadata": {},
     "output_type": "execute_result"
    }
   ],
   "source": [
    "churn_eval = BinaryClassificationEvaluator(rawPredictionCol='prediction', labelCol='Churn')\n",
    "AUC = churn_eval.evaluate(results)\n",
    "AUC"
   ]
  },
  {
   "cell_type": "code",
   "execution_count": 18,
   "metadata": {},
   "outputs": [
    {
     "data": {
      "text/plain": [
       "0.712366912366912"
      ]
     },
     "execution_count": 18,
     "metadata": {},
     "output_type": "execute_result"
    }
   ],
   "source": [
    "churn_eval2 = BinaryClassificationEvaluator(labelCol='Churn')\n",
    "ROC = churn_eval2.evaluate(results)\n",
    "ROC"
   ]
  }
 ],
 "metadata": {
  "kernelspec": {
   "display_name": "Python 3",
   "language": "python",
   "name": "python3"
  },
  "language_info": {
   "codemirror_mode": {
    "name": "ipython",
    "version": 3
   },
   "file_extension": ".py",
   "mimetype": "text/x-python",
   "name": "python",
   "nbconvert_exporter": "python",
   "pygments_lexer": "ipython3",
   "version": "3.7.3"
  }
 },
 "nbformat": 4,
 "nbformat_minor": 2
}
